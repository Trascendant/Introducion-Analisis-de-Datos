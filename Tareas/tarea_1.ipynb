{
  "nbformat": 4,
  "nbformat_minor": 0,
  "metadata": {
    "colab": {
      "provenance": []
    },
    "kernelspec": {
      "name": "python3",
      "display_name": "Python 3"
    },
    "language_info": {
      "name": "python"
    }
  },
  "cells": [
    {
      "cell_type": "code",
      "execution_count": null,
      "metadata": {
        "colab": {
          "base_uri": "https://localhost:8080/"
        },
        "id": "m5-XoiXCKHM3",
        "outputId": "21103400-2c89-4d94-aa0f-d5c2d030332a"
      },
      "outputs": [
        {
          "output_type": "stream",
          "name": "stdout",
          "text": [
            "Ejercicio Bisiesto\n",
            "Ingrese el año: 2021\n",
            "El año no es Bisiesto\n"
          ]
        }
      ],
      "source": [
        "# Ejercicio 1\n",
        "\n",
        "print(\"Ejercicio Bisiesto\")\n",
        "anio = int(input(\"Ingrese el año: \"))\n",
        "if(anio % 400 == 0) or (anio % 4 == 0) and (anio % 100 != 0):\n",
        "  print(\"El año es Bisiesto\")\n",
        "else:\n",
        "  print(\"El año no es Bisiesto\")"
      ]
    },
    {
      "cell_type": "code",
      "source": [
        "# Ejercicio 2\n",
        "\n",
        "switcher = {\n",
        "  1: \"Enero\",\n",
        "  2: \"Febrero\",\n",
        "  3: \"Marzo\",\n",
        "  4: \"Abril\",\n",
        "  5: \"Mayo\",\n",
        "  6: \"Junio\",\n",
        "  7: \"Julio\",\n",
        "  8: \"Agosto\",\n",
        "  9: \"Septiembre\",\n",
        "  10: \"Octubre\",\n",
        "  11: \"Noviembre\",\n",
        "  12: \"Diciembre\"\n",
        "}\n",
        "\n",
        "argument = int(input(\"Ingrese un número: \"))\n",
        "nombreDeMes = switcher.get(argument, \"Mes inválido\")\n",
        "print(nombreDeMes)"
      ],
      "metadata": {
        "colab": {
          "base_uri": "https://localhost:8080/"
        },
        "id": "7xNpc0SZWiBr",
        "outputId": "15366be8-39d7-4ea5-b94d-ee175673009c"
      },
      "execution_count": null,
      "outputs": [
        {
          "output_type": "stream",
          "name": "stdout",
          "text": [
            "Ingrese un número: 13\n",
            "Mes inválido\n"
          ]
        }
      ]
    },
    {
      "cell_type": "code",
      "source": [
        "# Ejercicio 3\n",
        "\n",
        "C = -1\n",
        "I = 0\n",
        "M = 0\n",
        "while(C < 0) or (I <= 0) or (I >= 100) or (M <= 0):\n",
        "  print(\"Introduce el capital, el interés, y el tiempo apropiados\")\n",
        "  C = int(input(\"Capital: \"))\n",
        "  I = int(input(\"Interes: \"))\n",
        "  M = int(input(\"Tiempo en años: \"))\n",
        "\n",
        "  for i in range(M):\n",
        "    C = C * (1 + I/100)\n",
        "    print(\"Monto: \", C, \" colones\")"
      ],
      "metadata": {
        "colab": {
          "base_uri": "https://localhost:8080/"
        },
        "id": "tWDS7mQ4ZPhD",
        "outputId": "a864897e-9127-441f-89d8-99ded5aa9dec"
      },
      "execution_count": null,
      "outputs": [
        {
          "output_type": "stream",
          "name": "stdout",
          "text": [
            "Introduce el capital, el interés, y el tiempo apropiados\n",
            "Capital: 1000\n",
            "Interes: 10\n",
            "Tiempo en años: 20\n",
            "Monto:  1100.0  colones\n",
            "Monto:  1210.0  colones\n",
            "Monto:  1331.0  colones\n",
            "Monto:  1464.1000000000001  colones\n",
            "Monto:  1610.5100000000002  colones\n",
            "Monto:  1771.5610000000004  colones\n",
            "Monto:  1948.7171000000005  colones\n",
            "Monto:  2143.5888100000006  colones\n",
            "Monto:  2357.9476910000008  colones\n",
            "Monto:  2593.742460100001  colones\n",
            "Monto:  2853.1167061100014  colones\n",
            "Monto:  3138.4283767210018  colones\n",
            "Monto:  3452.271214393102  colones\n",
            "Monto:  3797.4983358324125  colones\n",
            "Monto:  4177.248169415654  colones\n",
            "Monto:  4594.97298635722  colones\n",
            "Monto:  5054.470284992943  colones\n",
            "Monto:  5559.917313492238  colones\n",
            "Monto:  6115.909044841462  colones\n",
            "Monto:  6727.499949325608  colones\n"
          ]
        }
      ]
    },
    {
      "cell_type": "code",
      "source": [
        "# Ejercicio 4\n",
        "\n",
        "numero = 1\n",
        "\n",
        "while numero > 0:\n",
        "  print(\"Digite un número\")\n",
        "  numero = int(input(\"Número: \"))\n",
        "  suma = 0\n",
        "  for i in range(1, numero + 1):\n",
        "    if(numero % i == 0):\n",
        "      suma = suma + i\n",
        "  print(suma)\n",
        "\n",
        "  # Ejemplo: Si coloco el número 10, el resultado sería 18, ya que realizaría la siguiente suma: 1 + 2 + 5 + 10 = 18."
      ],
      "metadata": {
        "colab": {
          "base_uri": "https://localhost:8080/"
        },
        "id": "k5QKbrK1csF3",
        "outputId": "86ef153a-d785-4c49-d596-d934dabaaad7"
      },
      "execution_count": null,
      "outputs": [
        {
          "output_type": "stream",
          "name": "stdout",
          "text": [
            "Digite un número\n",
            "Número: 10\n",
            "18\n",
            "Digite un número\n",
            "Número: 0\n",
            "0\n"
          ]
        }
      ]
    },
    {
      "cell_type": "code",
      "source": [
        "# Ejercicio 5\n",
        "\n",
        "temperaturas = [35, 34, 33, 32, 27, 25, 21]\n",
        "tam = len(temperaturas)\n",
        "media = 0\n",
        "\n",
        "for i in range(tam):\n",
        "  media += temperaturas[i]\n",
        "\n",
        "media = media / tam\n",
        "print(\"La media de las temperaturas almacenadas en el vector es:\", media)"
      ],
      "metadata": {
        "colab": {
          "base_uri": "https://localhost:8080/"
        },
        "id": "JykCUiEpgz3H",
        "outputId": "7cf1d600-f02f-4d57-a96a-0d2390bc27f0"
      },
      "execution_count": null,
      "outputs": [
        {
          "output_type": "stream",
          "name": "stdout",
          "text": [
            "La media de las temperaturas almacenadas en el vector es: 29.571428571428573\n"
          ]
        }
      ]
    }
  ]
}